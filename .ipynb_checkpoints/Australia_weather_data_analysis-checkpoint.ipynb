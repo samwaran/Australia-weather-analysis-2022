{
 "cells": [
  {
   "cell_type": "markdown",
   "id": "29adddce",
   "metadata": {},
   "source": [
    "## WEATHER ANALYSIS - AUSTRALIA 2022"
   ]
  },
  {
   "cell_type": "markdown",
   "id": "b920a7a5",
   "metadata": {},
   "source": [
    "### INTRODUCTION"
   ]
  },
  {
   "cell_type": "markdown",
   "id": "a2c9f266",
   "metadata": {},
   "source": [
    "- The \"Australia_weather_2022-01-01_to_2022-12-31.csv\" dataset used in this analysis is an aggregated quantitive data, about the road accidents due to various weather condition in India during 2018.\n",
    "\n",
    "- The data is a csv file. Analysis is done using pandas.\n",
    "\n",
    "- The data is be saved and exported to power bi for dynamic visualisations & dashboards.\n",
    "\n",
    "- 'matplotlib' and 'searbon' packages are used for basic statistics and deriving insights from the data."
   ]
  },
  {
   "cell_type": "code",
   "execution_count": 87,
   "id": "82b4055a",
   "metadata": {},
   "outputs": [],
   "source": [
    "import pandas as pd\n",
    "import numpy as np\n",
    "import seaborn as sns\n",
    "import matplotlib.pyplot as plt\n",
    "\n",
    "import matplotlib\n",
    "import warnings\n",
    "warnings.filterwarnings('ignore')\n",
    "%matplotlib inline"
   ]
  },
  {
   "cell_type": "code",
   "execution_count": 88,
   "id": "39287787",
   "metadata": {},
   "outputs": [],
   "source": [
    "na_vals = [' ', 'nan', 'Nan', 'NaN','?', 'missing', 'Missing']      #the list containing all values deemed as null values\n",
    "\n",
    "df = pd.read_csv(r'C:\\Users\\R5 EJ274t\\Desktop\\DATA-PROJECTS\\Australia-weather-analysis-2022\\Dataset\\Australia_weather_2022-01-01_to_2022-12-31.csv', na_values = na_vals)"
   ]
  },
  {
   "cell_type": "code",
   "execution_count": 89,
   "id": "20363bdb",
   "metadata": {},
   "outputs": [
    {
     "data": {
      "text/html": [
       "<div>\n",
       "<style scoped>\n",
       "    .dataframe tbody tr th:only-of-type {\n",
       "        vertical-align: middle;\n",
       "    }\n",
       "\n",
       "    .dataframe tbody tr th {\n",
       "        vertical-align: top;\n",
       "    }\n",
       "\n",
       "    .dataframe thead th {\n",
       "        text-align: right;\n",
       "    }\n",
       "</style>\n",
       "<table border=\"1\" class=\"dataframe\">\n",
       "  <thead>\n",
       "    <tr style=\"text-align: right;\">\n",
       "      <th></th>\n",
       "      <th>name</th>\n",
       "      <th>datetime</th>\n",
       "      <th>tempmax</th>\n",
       "      <th>tempmin</th>\n",
       "      <th>temp</th>\n",
       "      <th>feelslikemax</th>\n",
       "      <th>feelslikemin</th>\n",
       "      <th>feelslike</th>\n",
       "      <th>dew</th>\n",
       "      <th>humidity</th>\n",
       "      <th>...</th>\n",
       "      <th>solarenergy</th>\n",
       "      <th>uvindex</th>\n",
       "      <th>severerisk</th>\n",
       "      <th>sunrise</th>\n",
       "      <th>sunset</th>\n",
       "      <th>moonphase</th>\n",
       "      <th>conditions</th>\n",
       "      <th>description</th>\n",
       "      <th>icon</th>\n",
       "      <th>stations</th>\n",
       "    </tr>\n",
       "  </thead>\n",
       "  <tbody>\n",
       "    <tr>\n",
       "      <th>0</th>\n",
       "      <td>australia</td>\n",
       "      <td>01-01-2022</td>\n",
       "      <td>30.0</td>\n",
       "      <td>11.7</td>\n",
       "      <td>21.3</td>\n",
       "      <td>29.0</td>\n",
       "      <td>11.7</td>\n",
       "      <td>21.1</td>\n",
       "      <td>11.4</td>\n",
       "      <td>57.1</td>\n",
       "      <td>...</td>\n",
       "      <td>31.7</td>\n",
       "      <td>10</td>\n",
       "      <td>NaN</td>\n",
       "      <td>2022-01-01T05:52:07</td>\n",
       "      <td>2022-01-01T20:21:29</td>\n",
       "      <td>0.94</td>\n",
       "      <td>Partially cloudy</td>\n",
       "      <td>Clearing in the afternoon.</td>\n",
       "      <td>partly-cloudy-day</td>\n",
       "      <td>YSCB,95925099999,94925099999,94927099999,F0067...</td>\n",
       "    </tr>\n",
       "    <tr>\n",
       "      <th>1</th>\n",
       "      <td>australia</td>\n",
       "      <td>02-01-2022</td>\n",
       "      <td>32.6</td>\n",
       "      <td>13.9</td>\n",
       "      <td>22.9</td>\n",
       "      <td>31.1</td>\n",
       "      <td>13.9</td>\n",
       "      <td>22.6</td>\n",
       "      <td>14.0</td>\n",
       "      <td>63.1</td>\n",
       "      <td>...</td>\n",
       "      <td>30.0</td>\n",
       "      <td>10</td>\n",
       "      <td>NaN</td>\n",
       "      <td>2022-01-02T05:52:52</td>\n",
       "      <td>2022-01-02T20:21:39</td>\n",
       "      <td>0.97</td>\n",
       "      <td>Rain, Partially cloudy</td>\n",
       "      <td>Partly cloudy throughout the day with late aft...</td>\n",
       "      <td>rain</td>\n",
       "      <td>YSCB,95925099999,94925099999,94927099999,F0067...</td>\n",
       "    </tr>\n",
       "    <tr>\n",
       "      <th>2</th>\n",
       "      <td>australia</td>\n",
       "      <td>03-01-2022</td>\n",
       "      <td>28.6</td>\n",
       "      <td>14.9</td>\n",
       "      <td>21.2</td>\n",
       "      <td>29.1</td>\n",
       "      <td>14.9</td>\n",
       "      <td>21.3</td>\n",
       "      <td>15.4</td>\n",
       "      <td>70.8</td>\n",
       "      <td>...</td>\n",
       "      <td>27.8</td>\n",
       "      <td>10</td>\n",
       "      <td>NaN</td>\n",
       "      <td>2022-01-03T05:53:40</td>\n",
       "      <td>2022-01-03T20:21:46</td>\n",
       "      <td>0.00</td>\n",
       "      <td>Rain, Partially cloudy</td>\n",
       "      <td>Partly cloudy throughout the day with rain.</td>\n",
       "      <td>rain</td>\n",
       "      <td>YSCB,95925099999,94925099999,94927099999,F0067...</td>\n",
       "    </tr>\n",
       "    <tr>\n",
       "      <th>3</th>\n",
       "      <td>australia</td>\n",
       "      <td>04-01-2022</td>\n",
       "      <td>26.8</td>\n",
       "      <td>13.9</td>\n",
       "      <td>20.2</td>\n",
       "      <td>27.1</td>\n",
       "      <td>13.9</td>\n",
       "      <td>20.3</td>\n",
       "      <td>14.6</td>\n",
       "      <td>72.8</td>\n",
       "      <td>...</td>\n",
       "      <td>30.8</td>\n",
       "      <td>10</td>\n",
       "      <td>NaN</td>\n",
       "      <td>2022-01-04T05:54:28</td>\n",
       "      <td>2022-01-04T20:21:52</td>\n",
       "      <td>0.04</td>\n",
       "      <td>Rain, Partially cloudy</td>\n",
       "      <td>Partly cloudy throughout the day with rain.</td>\n",
       "      <td>rain</td>\n",
       "      <td>YSCB,95925099999,94925099999,94927099999,F0067...</td>\n",
       "    </tr>\n",
       "    <tr>\n",
       "      <th>4</th>\n",
       "      <td>australia</td>\n",
       "      <td>05-01-2022</td>\n",
       "      <td>25.7</td>\n",
       "      <td>13.8</td>\n",
       "      <td>20.0</td>\n",
       "      <td>25.7</td>\n",
       "      <td>13.8</td>\n",
       "      <td>20.0</td>\n",
       "      <td>15.0</td>\n",
       "      <td>74.4</td>\n",
       "      <td>...</td>\n",
       "      <td>18.3</td>\n",
       "      <td>10</td>\n",
       "      <td>NaN</td>\n",
       "      <td>2022-01-05T05:55:17</td>\n",
       "      <td>2022-01-05T20:21:56</td>\n",
       "      <td>0.07</td>\n",
       "      <td>Rain, Partially cloudy</td>\n",
       "      <td>Partly cloudy throughout the day with rain.</td>\n",
       "      <td>rain</td>\n",
       "      <td>YSCB,95925099999,94925099999,94927099999,F0067...</td>\n",
       "    </tr>\n",
       "  </tbody>\n",
       "</table>\n",
       "<p>5 rows × 33 columns</p>\n",
       "</div>"
      ],
      "text/plain": [
       "        name    datetime  tempmax  tempmin  temp  feelslikemax  feelslikemin  \\\n",
       "0  australia  01-01-2022     30.0     11.7  21.3          29.0          11.7   \n",
       "1  australia  02-01-2022     32.6     13.9  22.9          31.1          13.9   \n",
       "2  australia  03-01-2022     28.6     14.9  21.2          29.1          14.9   \n",
       "3  australia  04-01-2022     26.8     13.9  20.2          27.1          13.9   \n",
       "4  australia  05-01-2022     25.7     13.8  20.0          25.7          13.8   \n",
       "\n",
       "   feelslike   dew  humidity  ...  solarenergy  uvindex  severerisk  \\\n",
       "0       21.1  11.4      57.1  ...         31.7       10         NaN   \n",
       "1       22.6  14.0      63.1  ...         30.0       10         NaN   \n",
       "2       21.3  15.4      70.8  ...         27.8       10         NaN   \n",
       "3       20.3  14.6      72.8  ...         30.8       10         NaN   \n",
       "4       20.0  15.0      74.4  ...         18.3       10         NaN   \n",
       "\n",
       "               sunrise               sunset  moonphase  \\\n",
       "0  2022-01-01T05:52:07  2022-01-01T20:21:29       0.94   \n",
       "1  2022-01-02T05:52:52  2022-01-02T20:21:39       0.97   \n",
       "2  2022-01-03T05:53:40  2022-01-03T20:21:46       0.00   \n",
       "3  2022-01-04T05:54:28  2022-01-04T20:21:52       0.04   \n",
       "4  2022-01-05T05:55:17  2022-01-05T20:21:56       0.07   \n",
       "\n",
       "               conditions                                        description  \\\n",
       "0        Partially cloudy                         Clearing in the afternoon.   \n",
       "1  Rain, Partially cloudy  Partly cloudy throughout the day with late aft...   \n",
       "2  Rain, Partially cloudy        Partly cloudy throughout the day with rain.   \n",
       "3  Rain, Partially cloudy        Partly cloudy throughout the day with rain.   \n",
       "4  Rain, Partially cloudy        Partly cloudy throughout the day with rain.   \n",
       "\n",
       "                icon                                           stations  \n",
       "0  partly-cloudy-day  YSCB,95925099999,94925099999,94927099999,F0067...  \n",
       "1               rain  YSCB,95925099999,94925099999,94927099999,F0067...  \n",
       "2               rain  YSCB,95925099999,94925099999,94927099999,F0067...  \n",
       "3               rain  YSCB,95925099999,94925099999,94927099999,F0067...  \n",
       "4               rain  YSCB,95925099999,94925099999,94927099999,F0067...  \n",
       "\n",
       "[5 rows x 33 columns]"
      ]
     },
     "execution_count": 89,
     "metadata": {},
     "output_type": "execute_result"
    }
   ],
   "source": [
    "df.head(5)"
   ]
  },
  {
   "cell_type": "code",
   "execution_count": 90,
   "id": "55ea2bcd",
   "metadata": {},
   "outputs": [
    {
     "data": {
      "text/plain": [
       "(365, 33)"
      ]
     },
     "execution_count": 90,
     "metadata": {},
     "output_type": "execute_result"
    }
   ],
   "source": [
    "df.shape"
   ]
  },
  {
   "cell_type": "code",
   "execution_count": 91,
   "id": "6b21ab7a",
   "metadata": {},
   "outputs": [
    {
     "data": {
      "text/html": [
       "<div>\n",
       "<style scoped>\n",
       "    .dataframe tbody tr th:only-of-type {\n",
       "        vertical-align: middle;\n",
       "    }\n",
       "\n",
       "    .dataframe tbody tr th {\n",
       "        vertical-align: top;\n",
       "    }\n",
       "\n",
       "    .dataframe thead th {\n",
       "        text-align: right;\n",
       "    }\n",
       "</style>\n",
       "<table border=\"1\" class=\"dataframe\">\n",
       "  <thead>\n",
       "    <tr style=\"text-align: right;\">\n",
       "      <th></th>\n",
       "      <th>name</th>\n",
       "      <th>datetime</th>\n",
       "      <th>tempmax</th>\n",
       "      <th>tempmin</th>\n",
       "      <th>temp</th>\n",
       "      <th>feelslikemax</th>\n",
       "      <th>feelslikemin</th>\n",
       "      <th>feelslike</th>\n",
       "      <th>dew</th>\n",
       "      <th>humidity</th>\n",
       "      <th>...</th>\n",
       "      <th>solarenergy</th>\n",
       "      <th>uvindex</th>\n",
       "      <th>severerisk</th>\n",
       "      <th>sunrise</th>\n",
       "      <th>sunset</th>\n",
       "      <th>moonphase</th>\n",
       "      <th>conditions</th>\n",
       "      <th>description</th>\n",
       "      <th>icon</th>\n",
       "      <th>stations</th>\n",
       "    </tr>\n",
       "  </thead>\n",
       "  <tbody>\n",
       "    <tr>\n",
       "      <th>363</th>\n",
       "      <td>australia</td>\n",
       "      <td>30-12-2022</td>\n",
       "      <td>21.1</td>\n",
       "      <td>14.9</td>\n",
       "      <td>17.7</td>\n",
       "      <td>21.1</td>\n",
       "      <td>14.9</td>\n",
       "      <td>17.7</td>\n",
       "      <td>13.8</td>\n",
       "      <td>79.3</td>\n",
       "      <td>...</td>\n",
       "      <td>17.2</td>\n",
       "      <td>6</td>\n",
       "      <td>10.0</td>\n",
       "      <td>2022-12-30T05:50:29</td>\n",
       "      <td>2022-12-30T20:21:02</td>\n",
       "      <td>0.25</td>\n",
       "      <td>Rain, Partially cloudy</td>\n",
       "      <td>Partly cloudy throughout the day with rain.</td>\n",
       "      <td>rain</td>\n",
       "      <td>YSCB,95925099999,94925099999,94927099999,F0067...</td>\n",
       "    </tr>\n",
       "    <tr>\n",
       "      <th>364</th>\n",
       "      <td>australia</td>\n",
       "      <td>31-12-2022</td>\n",
       "      <td>24.8</td>\n",
       "      <td>13.9</td>\n",
       "      <td>19.3</td>\n",
       "      <td>24.8</td>\n",
       "      <td>13.9</td>\n",
       "      <td>19.3</td>\n",
       "      <td>13.4</td>\n",
       "      <td>70.8</td>\n",
       "      <td>...</td>\n",
       "      <td>20.0</td>\n",
       "      <td>7</td>\n",
       "      <td>10.0</td>\n",
       "      <td>2022-12-31T05:51:12</td>\n",
       "      <td>2022-12-31T20:21:15</td>\n",
       "      <td>0.26</td>\n",
       "      <td>Rain, Partially cloudy</td>\n",
       "      <td>Partly cloudy throughout the day with afternoo...</td>\n",
       "      <td>rain</td>\n",
       "      <td>YSCB,95925099999,94925099999,94927099999,F0067...</td>\n",
       "    </tr>\n",
       "  </tbody>\n",
       "</table>\n",
       "<p>2 rows × 33 columns</p>\n",
       "</div>"
      ],
      "text/plain": [
       "          name    datetime  tempmax  tempmin  temp  feelslikemax  \\\n",
       "363  australia  30-12-2022     21.1     14.9  17.7          21.1   \n",
       "364  australia  31-12-2022     24.8     13.9  19.3          24.8   \n",
       "\n",
       "     feelslikemin  feelslike   dew  humidity  ...  solarenergy  uvindex  \\\n",
       "363          14.9       17.7  13.8      79.3  ...         17.2        6   \n",
       "364          13.9       19.3  13.4      70.8  ...         20.0        7   \n",
       "\n",
       "     severerisk              sunrise               sunset  moonphase  \\\n",
       "363        10.0  2022-12-30T05:50:29  2022-12-30T20:21:02       0.25   \n",
       "364        10.0  2022-12-31T05:51:12  2022-12-31T20:21:15       0.26   \n",
       "\n",
       "                 conditions  \\\n",
       "363  Rain, Partially cloudy   \n",
       "364  Rain, Partially cloudy   \n",
       "\n",
       "                                           description  icon  \\\n",
       "363        Partly cloudy throughout the day with rain.  rain   \n",
       "364  Partly cloudy throughout the day with afternoo...  rain   \n",
       "\n",
       "                                              stations  \n",
       "363  YSCB,95925099999,94925099999,94927099999,F0067...  \n",
       "364  YSCB,95925099999,94925099999,94927099999,F0067...  \n",
       "\n",
       "[2 rows x 33 columns]"
      ]
     },
     "execution_count": 91,
     "metadata": {},
     "output_type": "execute_result"
    }
   ],
   "source": [
    "#we can check of the data have total in the end row so to exclude it from calculation\n",
    "df.tail(2)"
   ]
  },
  {
   "cell_type": "code",
   "execution_count": 92,
   "id": "531bd70b",
   "metadata": {},
   "outputs": [
    {
     "data": {
      "text/html": [
       "<div>\n",
       "<style scoped>\n",
       "    .dataframe tbody tr th:only-of-type {\n",
       "        vertical-align: middle;\n",
       "    }\n",
       "\n",
       "    .dataframe tbody tr th {\n",
       "        vertical-align: top;\n",
       "    }\n",
       "\n",
       "    .dataframe thead th {\n",
       "        text-align: right;\n",
       "    }\n",
       "</style>\n",
       "<table border=\"1\" class=\"dataframe\">\n",
       "  <thead>\n",
       "    <tr style=\"text-align: right;\">\n",
       "      <th></th>\n",
       "      <th>0</th>\n",
       "    </tr>\n",
       "  </thead>\n",
       "  <tbody>\n",
       "    <tr>\n",
       "      <th>name</th>\n",
       "      <td>name</td>\n",
       "    </tr>\n",
       "    <tr>\n",
       "      <th>datetime</th>\n",
       "      <td>datetime</td>\n",
       "    </tr>\n",
       "    <tr>\n",
       "      <th>tempmax</th>\n",
       "      <td>tempmax</td>\n",
       "    </tr>\n",
       "    <tr>\n",
       "      <th>tempmin</th>\n",
       "      <td>tempmin</td>\n",
       "    </tr>\n",
       "    <tr>\n",
       "      <th>temp</th>\n",
       "      <td>temp</td>\n",
       "    </tr>\n",
       "    <tr>\n",
       "      <th>feelslikemax</th>\n",
       "      <td>feelslikemax</td>\n",
       "    </tr>\n",
       "    <tr>\n",
       "      <th>feelslikemin</th>\n",
       "      <td>feelslikemin</td>\n",
       "    </tr>\n",
       "    <tr>\n",
       "      <th>feelslike</th>\n",
       "      <td>feelslike</td>\n",
       "    </tr>\n",
       "    <tr>\n",
       "      <th>dew</th>\n",
       "      <td>dew</td>\n",
       "    </tr>\n",
       "    <tr>\n",
       "      <th>humidity</th>\n",
       "      <td>humidity</td>\n",
       "    </tr>\n",
       "    <tr>\n",
       "      <th>precip</th>\n",
       "      <td>precip</td>\n",
       "    </tr>\n",
       "    <tr>\n",
       "      <th>precipprob</th>\n",
       "      <td>precipprob</td>\n",
       "    </tr>\n",
       "    <tr>\n",
       "      <th>precipcover</th>\n",
       "      <td>precipcover</td>\n",
       "    </tr>\n",
       "    <tr>\n",
       "      <th>preciptype</th>\n",
       "      <td>preciptype</td>\n",
       "    </tr>\n",
       "    <tr>\n",
       "      <th>snow</th>\n",
       "      <td>snow</td>\n",
       "    </tr>\n",
       "    <tr>\n",
       "      <th>snowdepth</th>\n",
       "      <td>snowdepth</td>\n",
       "    </tr>\n",
       "    <tr>\n",
       "      <th>windgust</th>\n",
       "      <td>windgust</td>\n",
       "    </tr>\n",
       "    <tr>\n",
       "      <th>windspeed</th>\n",
       "      <td>windspeed</td>\n",
       "    </tr>\n",
       "    <tr>\n",
       "      <th>winddir</th>\n",
       "      <td>winddir</td>\n",
       "    </tr>\n",
       "    <tr>\n",
       "      <th>sealevelpressure</th>\n",
       "      <td>sealevelpressure</td>\n",
       "    </tr>\n",
       "    <tr>\n",
       "      <th>cloudcover</th>\n",
       "      <td>cloudcover</td>\n",
       "    </tr>\n",
       "    <tr>\n",
       "      <th>visibility</th>\n",
       "      <td>visibility</td>\n",
       "    </tr>\n",
       "    <tr>\n",
       "      <th>solarradiation</th>\n",
       "      <td>solarradiation</td>\n",
       "    </tr>\n",
       "    <tr>\n",
       "      <th>solarenergy</th>\n",
       "      <td>solarenergy</td>\n",
       "    </tr>\n",
       "    <tr>\n",
       "      <th>uvindex</th>\n",
       "      <td>uvindex</td>\n",
       "    </tr>\n",
       "    <tr>\n",
       "      <th>severerisk</th>\n",
       "      <td>severerisk</td>\n",
       "    </tr>\n",
       "    <tr>\n",
       "      <th>sunrise</th>\n",
       "      <td>sunrise</td>\n",
       "    </tr>\n",
       "    <tr>\n",
       "      <th>sunset</th>\n",
       "      <td>sunset</td>\n",
       "    </tr>\n",
       "    <tr>\n",
       "      <th>moonphase</th>\n",
       "      <td>moonphase</td>\n",
       "    </tr>\n",
       "    <tr>\n",
       "      <th>conditions</th>\n",
       "      <td>conditions</td>\n",
       "    </tr>\n",
       "    <tr>\n",
       "      <th>description</th>\n",
       "      <td>description</td>\n",
       "    </tr>\n",
       "    <tr>\n",
       "      <th>icon</th>\n",
       "      <td>icon</td>\n",
       "    </tr>\n",
       "    <tr>\n",
       "      <th>stations</th>\n",
       "      <td>stations</td>\n",
       "    </tr>\n",
       "  </tbody>\n",
       "</table>\n",
       "</div>"
      ],
      "text/plain": [
       "                                 0\n",
       "name                          name\n",
       "datetime                  datetime\n",
       "tempmax                    tempmax\n",
       "tempmin                    tempmin\n",
       "temp                          temp\n",
       "feelslikemax          feelslikemax\n",
       "feelslikemin          feelslikemin\n",
       "feelslike                feelslike\n",
       "dew                            dew\n",
       "humidity                  humidity\n",
       "precip                      precip\n",
       "precipprob              precipprob\n",
       "precipcover            precipcover\n",
       "preciptype              preciptype\n",
       "snow                          snow\n",
       "snowdepth                snowdepth\n",
       "windgust                  windgust\n",
       "windspeed                windspeed\n",
       "winddir                    winddir\n",
       "sealevelpressure  sealevelpressure\n",
       "cloudcover              cloudcover\n",
       "visibility              visibility\n",
       "solarradiation      solarradiation\n",
       "solarenergy            solarenergy\n",
       "uvindex                    uvindex\n",
       "severerisk              severerisk\n",
       "sunrise                    sunrise\n",
       "sunset                      sunset\n",
       "moonphase                moonphase\n",
       "conditions              conditions\n",
       "description            description\n",
       "icon                          icon\n",
       "stations                  stations"
      ]
     },
     "execution_count": 92,
     "metadata": {},
     "output_type": "execute_result"
    }
   ],
   "source": [
    "#we can note all the headers of the columns\n",
    "df.columns.to_frame()"
   ]
  },
  {
   "cell_type": "markdown",
   "id": "9635fe22",
   "metadata": {},
   "source": [
    "*NOTE: all the columns have keys (heading) with proper nomenclature so we won't be changing the names here.*"
   ]
  },
  {
   "cell_type": "code",
   "execution_count": 93,
   "id": "e816ce1b",
   "metadata": {},
   "outputs": [
    {
     "data": {
      "text/plain": [
       "name                 object\n",
       "datetime             object\n",
       "tempmax             float64\n",
       "tempmin             float64\n",
       "temp                float64\n",
       "feelslikemax        float64\n",
       "feelslikemin        float64\n",
       "feelslike           float64\n",
       "dew                 float64\n",
       "humidity            float64\n",
       "precip              float64\n",
       "precipprob            int64\n",
       "precipcover         float64\n",
       "preciptype           object\n",
       "snow                  int64\n",
       "snowdepth           float64\n",
       "windgust            float64\n",
       "windspeed           float64\n",
       "winddir             float64\n",
       "sealevelpressure    float64\n",
       "cloudcover          float64\n",
       "visibility          float64\n",
       "solarradiation      float64\n",
       "solarenergy         float64\n",
       "uvindex               int64\n",
       "severerisk          float64\n",
       "sunrise              object\n",
       "sunset               object\n",
       "moonphase           float64\n",
       "conditions           object\n",
       "description          object\n",
       "icon                 object\n",
       "stations             object\n",
       "dtype: object"
      ]
     },
     "execution_count": 93,
     "metadata": {},
     "output_type": "execute_result"
    }
   ],
   "source": [
    "#Let's check the datatypes of all the columns\n",
    "\n",
    "df.dtypes"
   ]
  },
  {
   "cell_type": "code",
   "execution_count": 94,
   "id": "f2bc3adf",
   "metadata": {},
   "outputs": [
    {
     "data": {
      "text/plain": [
       "name                365\n",
       "datetime            365\n",
       "tempmax             365\n",
       "tempmin             365\n",
       "temp                365\n",
       "feelslikemax        365\n",
       "feelslikemin        365\n",
       "feelslike           365\n",
       "dew                 365\n",
       "humidity            365\n",
       "precip              365\n",
       "precipprob          365\n",
       "precipcover         365\n",
       "preciptype          306\n",
       "snow                365\n",
       "snowdepth           365\n",
       "windgust            356\n",
       "windspeed           365\n",
       "winddir             365\n",
       "sealevelpressure    365\n",
       "cloudcover          365\n",
       "visibility          365\n",
       "solarradiation      365\n",
       "solarenergy         365\n",
       "uvindex             365\n",
       "severerisk          356\n",
       "sunrise             365\n",
       "sunset              365\n",
       "moonphase           365\n",
       "conditions          365\n",
       "description         365\n",
       "icon                365\n",
       "stations            365\n",
       "dtype: int64"
      ]
     },
     "execution_count": 94,
     "metadata": {},
     "output_type": "execute_result"
    }
   ],
   "source": [
    "#a total of non null values in a dataframe\n",
    "df.count()"
   ]
  },
  {
   "cell_type": "markdown",
   "id": "b60ca696",
   "metadata": {},
   "source": [
    "### Phase 2: Data Processing"
   ]
  },
  {
   "cell_type": "markdown",
   "id": "8c4ddcc1",
   "metadata": {},
   "source": [
    "This phase includes all the cleaning, transforming and processing of data"
   ]
  },
  {
   "cell_type": "markdown",
   "id": "22cfd4d0",
   "metadata": {},
   "source": [
    "#### Step 1: Check for all the the missing or 'na' values in the dataset"
   ]
  },
  {
   "cell_type": "code",
   "execution_count": 95,
   "id": "881c13ee",
   "metadata": {},
   "outputs": [
    {
     "data": {
      "text/plain": [
       "name                 0\n",
       "datetime             0\n",
       "tempmax              0\n",
       "tempmin              0\n",
       "temp                 0\n",
       "feelslikemax         0\n",
       "feelslikemin         0\n",
       "feelslike            0\n",
       "dew                  0\n",
       "humidity             0\n",
       "precip               0\n",
       "precipprob           0\n",
       "precipcover          0\n",
       "preciptype          59\n",
       "snow                 0\n",
       "snowdepth            0\n",
       "windgust             9\n",
       "windspeed            0\n",
       "winddir              0\n",
       "sealevelpressure     0\n",
       "cloudcover           0\n",
       "visibility           0\n",
       "solarradiation       0\n",
       "solarenergy          0\n",
       "uvindex              0\n",
       "severerisk           9\n",
       "sunrise              0\n",
       "sunset               0\n",
       "moonphase            0\n",
       "conditions           0\n",
       "description          0\n",
       "icon                 0\n",
       "stations             0\n",
       "dtype: int64"
      ]
     },
     "execution_count": 95,
     "metadata": {},
     "output_type": "execute_result"
    }
   ],
   "source": [
    "df.isnull().sum()"
   ]
  },
  {
   "cell_type": "markdown",
   "id": "20fadb4a",
   "metadata": {},
   "source": [
    "#### There are 3 columns with null values.\n",
    "- preciptype ---          59\n",
    "- windgust ---             9\n",
    "- severerisk ---           9"
   ]
  },
  {
   "cell_type": "markdown",
   "id": "ad980e2d",
   "metadata": {},
   "source": [
    "This is comparable to the predicted result by df.count()"
   ]
  },
  {
   "cell_type": "code",
   "execution_count": 96,
   "id": "b34f195f",
   "metadata": {},
   "outputs": [
    {
     "data": {
      "text/plain": [
       "array([nan, 'rain', 'rain,snow'], dtype=object)"
      ]
     },
     "execution_count": 96,
     "metadata": {},
     "output_type": "execute_result"
    }
   ],
   "source": [
    "#Now to handle the missing values. We need to look at individual columns.\n",
    "df['preciptype'].unique()"
   ]
  },
  {
   "cell_type": "code",
   "execution_count": 97,
   "id": "a4bd599c",
   "metadata": {},
   "outputs": [
    {
     "data": {
      "text/html": [
       "<div>\n",
       "<style scoped>\n",
       "    .dataframe tbody tr th:only-of-type {\n",
       "        vertical-align: middle;\n",
       "    }\n",
       "\n",
       "    .dataframe tbody tr th {\n",
       "        vertical-align: top;\n",
       "    }\n",
       "\n",
       "    .dataframe thead th {\n",
       "        text-align: right;\n",
       "    }\n",
       "</style>\n",
       "<table border=\"1\" class=\"dataframe\">\n",
       "  <thead>\n",
       "    <tr style=\"text-align: right;\">\n",
       "      <th></th>\n",
       "      <th>name</th>\n",
       "      <th>preciptype</th>\n",
       "    </tr>\n",
       "  </thead>\n",
       "  <tbody>\n",
       "    <tr>\n",
       "      <th>0</th>\n",
       "      <td>australia</td>\n",
       "      <td>NONE</td>\n",
       "    </tr>\n",
       "    <tr>\n",
       "      <th>1</th>\n",
       "      <td>australia</td>\n",
       "      <td>rain</td>\n",
       "    </tr>\n",
       "    <tr>\n",
       "      <th>2</th>\n",
       "      <td>australia</td>\n",
       "      <td>rain</td>\n",
       "    </tr>\n",
       "    <tr>\n",
       "      <th>3</th>\n",
       "      <td>australia</td>\n",
       "      <td>rain</td>\n",
       "    </tr>\n",
       "    <tr>\n",
       "      <th>4</th>\n",
       "      <td>australia</td>\n",
       "      <td>rain</td>\n",
       "    </tr>\n",
       "    <tr>\n",
       "      <th>...</th>\n",
       "      <td>...</td>\n",
       "      <td>...</td>\n",
       "    </tr>\n",
       "    <tr>\n",
       "      <th>360</th>\n",
       "      <td>australia</td>\n",
       "      <td>NONE</td>\n",
       "    </tr>\n",
       "    <tr>\n",
       "      <th>361</th>\n",
       "      <td>australia</td>\n",
       "      <td>NONE</td>\n",
       "    </tr>\n",
       "    <tr>\n",
       "      <th>362</th>\n",
       "      <td>australia</td>\n",
       "      <td>rain</td>\n",
       "    </tr>\n",
       "    <tr>\n",
       "      <th>363</th>\n",
       "      <td>australia</td>\n",
       "      <td>rain</td>\n",
       "    </tr>\n",
       "    <tr>\n",
       "      <th>364</th>\n",
       "      <td>australia</td>\n",
       "      <td>rain</td>\n",
       "    </tr>\n",
       "  </tbody>\n",
       "</table>\n",
       "<p>365 rows × 2 columns</p>\n",
       "</div>"
      ],
      "text/plain": [
       "          name preciptype\n",
       "0    australia       NONE\n",
       "1    australia       rain\n",
       "2    australia       rain\n",
       "3    australia       rain\n",
       "4    australia       rain\n",
       "..         ...        ...\n",
       "360  australia       NONE\n",
       "361  australia       NONE\n",
       "362  australia       rain\n",
       "363  australia       rain\n",
       "364  australia       rain\n",
       "\n",
       "[365 rows x 2 columns]"
      ]
     },
     "execution_count": 97,
     "metadata": {},
     "output_type": "execute_result"
    }
   ],
   "source": [
    "#preciptype gives types of precipitation with values rain or rain,snow.\n",
    "# we can add NONE in placeof missing values.\n",
    "df['preciptype'] = df['preciptype'].fillna('NONE')\n",
    "df[['name','preciptype']]"
   ]
  },
  {
   "cell_type": "code",
   "execution_count": 98,
   "id": "aedaab90",
   "metadata": {},
   "outputs": [
    {
     "data": {
      "text/plain": [
       "array([ nan, 27. , 32.8, 37.1, 30.2, 35.6, 42.5, 31.7, 29.9, 50. , 48.6,\n",
       "       36.7, 33.5, 34.2, 33.8, 30.6, 31.3, 22. , 29.5, 24.5, 31. , 53.6,\n",
       "       43.2, 39.2, 36. , 20.9, 34.9, 27.4, 23.4, 33.1, 14.8, 34.6, 28.1,\n",
       "       17.3, 24.1, 37.8, 46.1, 37.4, 27.7, 52.2, 59.4, 70.6, 45. , 40.3,\n",
       "       29.2, 36.4, 13.7, 25.2, 25.9, 20.2, 32. , 55.4, 57.6, 44.6, 41.4,\n",
       "       44.3, 22.3, 25.6,  9.7, 21.6, 20.5, 40. , 28.4, 53.3, 10.4, 12.6,\n",
       "       46.4, 38.5, 42.8, 22.7, 28.8, 41. , 51.8, 10.8, 18. , 17.6, 52.9,\n",
       "       69.1, 59. , 49.3, 64.8, 71.6, 50.8, 41.8, 15.8,  7.2, 15.1, 21.2,\n",
       "       50.4,  7.6, 52.6, 51.1, 10.1, 38.9, 63.4, 69.5,  5.4, 19.1, 18.4,\n",
       "       56.2, 61.9, 68. , 55.1,  9. , 19.4, 16.9, 49.7, 58.7, 24.8, 66.2,\n",
       "       46.8, 38.2, 19.8, 54.7, 58. , 11.9, 40.7, 32.4, 42.1, 43.6, 65.9,\n",
       "       56.9, 81. , 79.9, 26.6, 16.2, 39.6, 66.6, 65.2, 56.5, 43.9, 48.2,\n",
       "       77. , 45.7, 16.6])"
      ]
     },
     "execution_count": 98,
     "metadata": {},
     "output_type": "execute_result"
    }
   ],
   "source": [
    "df['windgust'].unique()"
   ]
  },
  {
   "cell_type": "code",
   "execution_count": 99,
   "id": "c453f603",
   "metadata": {},
   "outputs": [
    {
     "data": {
      "text/plain": [
       "0       0.0\n",
       "1       0.0\n",
       "2       0.0\n",
       "3       0.0\n",
       "4       0.0\n",
       "       ... \n",
       "360    41.8\n",
       "361    44.6\n",
       "362    25.6\n",
       "363    29.9\n",
       "364    32.8\n",
       "Name: windgust, Length: 365, dtype: float64"
      ]
     },
     "execution_count": 99,
     "metadata": {},
     "output_type": "execute_result"
    }
   ],
   "source": [
    "#windgust columns provides value of the wind speed.\n",
    "#for windgust we can use zero where no value is available\n",
    "df['windgust'] = df['windgust'].fillna(0)\n",
    "df['windgust']"
   ]
  },
  {
   "cell_type": "code",
   "execution_count": 100,
   "id": "0d4defb7",
   "metadata": {},
   "outputs": [
    {
     "data": {
      "text/plain": [
       "array([nan,  3., 10., 30.])"
      ]
     },
     "execution_count": 100,
     "metadata": {},
     "output_type": "execute_result"
    }
   ],
   "source": [
    "df['severerisk'].unique()"
   ]
  },
  {
   "cell_type": "code",
   "execution_count": 101,
   "id": "1ffd406e",
   "metadata": {},
   "outputs": [],
   "source": [
    "#severerisk is used to detect of weather going severe in time called -- sevierity risk.\n",
    "#It spew values 3, 10 & 30. Therefore is not much valuable from our use case.\n",
    "# we can drop the severity risk column.\n",
    "df = df.drop('severerisk',axis=1)"
   ]
  },
  {
   "cell_type": "code",
   "execution_count": 102,
   "id": "c1e9ae34",
   "metadata": {},
   "outputs": [
    {
     "data": {
      "text/plain": [
       "Index(['name', 'datetime', 'tempmax', 'tempmin', 'temp', 'feelslikemax',\n",
       "       'feelslikemin', 'feelslike', 'dew', 'humidity', 'precip', 'precipprob',\n",
       "       'precipcover', 'preciptype', 'snow', 'snowdepth', 'windgust',\n",
       "       'windspeed', 'winddir', 'sealevelpressure', 'cloudcover', 'visibility',\n",
       "       'solarradiation', 'solarenergy', 'uvindex', 'sunrise', 'sunset',\n",
       "       'moonphase', 'conditions', 'description', 'icon', 'stations'],\n",
       "      dtype='object')"
      ]
     },
     "execution_count": 102,
     "metadata": {},
     "output_type": "execute_result"
    }
   ],
   "source": [
    "df.columns"
   ]
  },
  {
   "cell_type": "markdown",
   "id": "43bc0a30",
   "metadata": {},
   "source": [
    "#### Step 2: Checking and handling the data duplicates, columns and datatypes"
   ]
  },
  {
   "cell_type": "code",
   "execution_count": 103,
   "id": "0d9a559d",
   "metadata": {},
   "outputs": [
    {
     "data": {
      "text/plain": [
       "0"
      ]
     },
     "execution_count": 103,
     "metadata": {},
     "output_type": "execute_result"
    }
   ],
   "source": [
    "#checking for number of duplicates in data\n",
    "df.duplicated().sum()"
   ]
  },
  {
   "cell_type": "code",
   "execution_count": 104,
   "id": "5cd811a8",
   "metadata": {},
   "outputs": [
    {
     "data": {
      "text/plain": [
       "name                 object\n",
       "datetime             object\n",
       "tempmax             float64\n",
       "tempmin             float64\n",
       "temp                float64\n",
       "feelslikemax        float64\n",
       "feelslikemin        float64\n",
       "feelslike           float64\n",
       "dew                 float64\n",
       "humidity            float64\n",
       "precip              float64\n",
       "precipprob            int64\n",
       "precipcover         float64\n",
       "preciptype           object\n",
       "snow                  int64\n",
       "snowdepth           float64\n",
       "windgust            float64\n",
       "windspeed           float64\n",
       "winddir             float64\n",
       "sealevelpressure    float64\n",
       "cloudcover          float64\n",
       "visibility          float64\n",
       "solarradiation      float64\n",
       "solarenergy         float64\n",
       "uvindex               int64\n",
       "sunrise              object\n",
       "sunset               object\n",
       "moonphase           float64\n",
       "conditions           object\n",
       "description          object\n",
       "icon                 object\n",
       "stations             object\n",
       "dtype: object"
      ]
     },
     "execution_count": 104,
     "metadata": {},
     "output_type": "execute_result"
    }
   ],
   "source": [
    "df.dtypes"
   ]
  },
  {
   "cell_type": "markdown",
   "id": "959adb5d",
   "metadata": {},
   "source": [
    "datetime columns is of data type object."
   ]
  },
  {
   "cell_type": "code",
   "execution_count": 105,
   "id": "bbf278b7",
   "metadata": {},
   "outputs": [
    {
     "data": {
      "text/plain": [
       "0      01-01-2022\n",
       "1      02-01-2022\n",
       "2      03-01-2022\n",
       "3      04-01-2022\n",
       "4      05-01-2022\n",
       "          ...    \n",
       "360    27-12-2022\n",
       "361    28-12-2022\n",
       "362    29-12-2022\n",
       "363    30-12-2022\n",
       "364    31-12-2022\n",
       "Name: datetime, Length: 365, dtype: object"
      ]
     },
     "execution_count": 105,
     "metadata": {},
     "output_type": "execute_result"
    }
   ],
   "source": [
    "df['datetime']"
   ]
  },
  {
   "cell_type": "code",
   "execution_count": 106,
   "id": "668b1f90",
   "metadata": {},
   "outputs": [],
   "source": [
    "#converting the datetime columns to correct data type.\n",
    "df['datetime']= pd.to_datetime(df['datetime'])"
   ]
  },
  {
   "cell_type": "code",
   "execution_count": 107,
   "id": "41ef1f87",
   "metadata": {},
   "outputs": [
    {
     "data": {
      "text/plain": [
       "dtype('<M8[ns]')"
      ]
     },
     "execution_count": 107,
     "metadata": {},
     "output_type": "execute_result"
    }
   ],
   "source": [
    "df['datetime'].dtype"
   ]
  },
  {
   "cell_type": "code",
   "execution_count": 108,
   "id": "94cbda83",
   "metadata": {},
   "outputs": [
    {
     "data": {
      "text/html": [
       "<div>\n",
       "<style scoped>\n",
       "    .dataframe tbody tr th:only-of-type {\n",
       "        vertical-align: middle;\n",
       "    }\n",
       "\n",
       "    .dataframe tbody tr th {\n",
       "        vertical-align: top;\n",
       "    }\n",
       "\n",
       "    .dataframe thead th {\n",
       "        text-align: right;\n",
       "    }\n",
       "</style>\n",
       "<table border=\"1\" class=\"dataframe\">\n",
       "  <thead>\n",
       "    <tr style=\"text-align: right;\">\n",
       "      <th></th>\n",
       "      <th>name</th>\n",
       "      <th>datetime</th>\n",
       "      <th>tempmax</th>\n",
       "      <th>tempmin</th>\n",
       "      <th>temp</th>\n",
       "      <th>feelslikemax</th>\n",
       "      <th>feelslikemin</th>\n",
       "      <th>feelslike</th>\n",
       "      <th>dew</th>\n",
       "      <th>humidity</th>\n",
       "      <th>...</th>\n",
       "      <th>solarradiation</th>\n",
       "      <th>solarenergy</th>\n",
       "      <th>uvindex</th>\n",
       "      <th>sunrise</th>\n",
       "      <th>sunset</th>\n",
       "      <th>moonphase</th>\n",
       "      <th>conditions</th>\n",
       "      <th>description</th>\n",
       "      <th>icon</th>\n",
       "      <th>stations</th>\n",
       "    </tr>\n",
       "  </thead>\n",
       "  <tbody>\n",
       "    <tr>\n",
       "      <th>0</th>\n",
       "      <td>australia</td>\n",
       "      <td>2022-01-01</td>\n",
       "      <td>30.0</td>\n",
       "      <td>11.7</td>\n",
       "      <td>21.3</td>\n",
       "      <td>29.0</td>\n",
       "      <td>11.7</td>\n",
       "      <td>21.1</td>\n",
       "      <td>11.4</td>\n",
       "      <td>57.1</td>\n",
       "      <td>...</td>\n",
       "      <td>368.4</td>\n",
       "      <td>31.7</td>\n",
       "      <td>10</td>\n",
       "      <td>2022-01-01T05:52:07</td>\n",
       "      <td>2022-01-01T20:21:29</td>\n",
       "      <td>0.94</td>\n",
       "      <td>Partially cloudy</td>\n",
       "      <td>Clearing in the afternoon.</td>\n",
       "      <td>partly-cloudy-day</td>\n",
       "      <td>YSCB,95925099999,94925099999,94927099999,F0067...</td>\n",
       "    </tr>\n",
       "    <tr>\n",
       "      <th>1</th>\n",
       "      <td>australia</td>\n",
       "      <td>2022-02-01</td>\n",
       "      <td>32.6</td>\n",
       "      <td>13.9</td>\n",
       "      <td>22.9</td>\n",
       "      <td>31.1</td>\n",
       "      <td>13.9</td>\n",
       "      <td>22.6</td>\n",
       "      <td>14.0</td>\n",
       "      <td>63.1</td>\n",
       "      <td>...</td>\n",
       "      <td>347.5</td>\n",
       "      <td>30.0</td>\n",
       "      <td>10</td>\n",
       "      <td>2022-01-02T05:52:52</td>\n",
       "      <td>2022-01-02T20:21:39</td>\n",
       "      <td>0.97</td>\n",
       "      <td>Rain, Partially cloudy</td>\n",
       "      <td>Partly cloudy throughout the day with late aft...</td>\n",
       "      <td>rain</td>\n",
       "      <td>YSCB,95925099999,94925099999,94927099999,F0067...</td>\n",
       "    </tr>\n",
       "    <tr>\n",
       "      <th>2</th>\n",
       "      <td>australia</td>\n",
       "      <td>2022-03-01</td>\n",
       "      <td>28.6</td>\n",
       "      <td>14.9</td>\n",
       "      <td>21.2</td>\n",
       "      <td>29.1</td>\n",
       "      <td>14.9</td>\n",
       "      <td>21.3</td>\n",
       "      <td>15.4</td>\n",
       "      <td>70.8</td>\n",
       "      <td>...</td>\n",
       "      <td>321.3</td>\n",
       "      <td>27.8</td>\n",
       "      <td>10</td>\n",
       "      <td>2022-01-03T05:53:40</td>\n",
       "      <td>2022-01-03T20:21:46</td>\n",
       "      <td>0.00</td>\n",
       "      <td>Rain, Partially cloudy</td>\n",
       "      <td>Partly cloudy throughout the day with rain.</td>\n",
       "      <td>rain</td>\n",
       "      <td>YSCB,95925099999,94925099999,94927099999,F0067...</td>\n",
       "    </tr>\n",
       "    <tr>\n",
       "      <th>3</th>\n",
       "      <td>australia</td>\n",
       "      <td>2022-04-01</td>\n",
       "      <td>26.8</td>\n",
       "      <td>13.9</td>\n",
       "      <td>20.2</td>\n",
       "      <td>27.1</td>\n",
       "      <td>13.9</td>\n",
       "      <td>20.3</td>\n",
       "      <td>14.6</td>\n",
       "      <td>72.8</td>\n",
       "      <td>...</td>\n",
       "      <td>357.6</td>\n",
       "      <td>30.8</td>\n",
       "      <td>10</td>\n",
       "      <td>2022-01-04T05:54:28</td>\n",
       "      <td>2022-01-04T20:21:52</td>\n",
       "      <td>0.04</td>\n",
       "      <td>Rain, Partially cloudy</td>\n",
       "      <td>Partly cloudy throughout the day with rain.</td>\n",
       "      <td>rain</td>\n",
       "      <td>YSCB,95925099999,94925099999,94927099999,F0067...</td>\n",
       "    </tr>\n",
       "  </tbody>\n",
       "</table>\n",
       "<p>4 rows × 32 columns</p>\n",
       "</div>"
      ],
      "text/plain": [
       "        name   datetime  tempmax  tempmin  temp  feelslikemax  feelslikemin  \\\n",
       "0  australia 2022-01-01     30.0     11.7  21.3          29.0          11.7   \n",
       "1  australia 2022-02-01     32.6     13.9  22.9          31.1          13.9   \n",
       "2  australia 2022-03-01     28.6     14.9  21.2          29.1          14.9   \n",
       "3  australia 2022-04-01     26.8     13.9  20.2          27.1          13.9   \n",
       "\n",
       "   feelslike   dew  humidity  ...  solarradiation  solarenergy  uvindex  \\\n",
       "0       21.1  11.4      57.1  ...           368.4         31.7       10   \n",
       "1       22.6  14.0      63.1  ...           347.5         30.0       10   \n",
       "2       21.3  15.4      70.8  ...           321.3         27.8       10   \n",
       "3       20.3  14.6      72.8  ...           357.6         30.8       10   \n",
       "\n",
       "               sunrise               sunset  moonphase  \\\n",
       "0  2022-01-01T05:52:07  2022-01-01T20:21:29       0.94   \n",
       "1  2022-01-02T05:52:52  2022-01-02T20:21:39       0.97   \n",
       "2  2022-01-03T05:53:40  2022-01-03T20:21:46       0.00   \n",
       "3  2022-01-04T05:54:28  2022-01-04T20:21:52       0.04   \n",
       "\n",
       "               conditions                                        description  \\\n",
       "0        Partially cloudy                         Clearing in the afternoon.   \n",
       "1  Rain, Partially cloudy  Partly cloudy throughout the day with late aft...   \n",
       "2  Rain, Partially cloudy        Partly cloudy throughout the day with rain.   \n",
       "3  Rain, Partially cloudy        Partly cloudy throughout the day with rain.   \n",
       "\n",
       "                icon                                           stations  \n",
       "0  partly-cloudy-day  YSCB,95925099999,94925099999,94927099999,F0067...  \n",
       "1               rain  YSCB,95925099999,94925099999,94927099999,F0067...  \n",
       "2               rain  YSCB,95925099999,94925099999,94927099999,F0067...  \n",
       "3               rain  YSCB,95925099999,94925099999,94927099999,F0067...  \n",
       "\n",
       "[4 rows x 32 columns]"
      ]
     },
     "execution_count": 108,
     "metadata": {},
     "output_type": "execute_result"
    }
   ],
   "source": [
    "df.head(4)"
   ]
  },
  {
   "cell_type": "code",
   "execution_count": 109,
   "id": "24c786bd",
   "metadata": {},
   "outputs": [
    {
     "data": {
      "text/plain": [
       "32"
      ]
     },
     "execution_count": 109,
     "metadata": {},
     "output_type": "execute_result"
    }
   ],
   "source": [
    "#checking number of columns\n",
    "len(df.columns)"
   ]
  },
  {
   "cell_type": "code",
   "execution_count": 110,
   "id": "814ec654",
   "metadata": {},
   "outputs": [
    {
     "data": {
      "text/plain": [
       "5"
      ]
     },
     "execution_count": 110,
     "metadata": {},
     "output_type": "execute_result"
    }
   ],
   "source": [
    "len(df['stations'].unique())"
   ]
  },
  {
   "cell_type": "code",
   "execution_count": 111,
   "id": "667207db",
   "metadata": {},
   "outputs": [],
   "source": [
    "#for better understanting changing station names as alphabets\n",
    "\n",
    "vals = df['stations'].unique()                          #getting the cordinates of stations\n",
    "st_vals = ['A','B','C','D','E']                         #array with alphabets to replace station names\n",
    "df['stations'] = df['stations'].replace(vals, st_vals)  #replacing station names in dataframe"
   ]
  },
  {
   "cell_type": "code",
   "execution_count": 112,
   "id": "3461ccb6",
   "metadata": {},
   "outputs": [
    {
     "data": {
      "text/plain": [
       "array(['A', 'B', 'C', 'D', 'E'], dtype=object)"
      ]
     },
     "execution_count": 112,
     "metadata": {},
     "output_type": "execute_result"
    }
   ],
   "source": [
    "df['stations'].unique()"
   ]
  },
  {
   "cell_type": "markdown",
   "id": "f165c69f",
   "metadata": {},
   "source": [
    "### Phase 3: Exploratory Data analysis"
   ]
  },
  {
   "cell_type": "markdown",
   "id": "eaf67104",
   "metadata": {},
   "source": [
    "- EDA is an approach to anaylse data inorder to summarize main characteristics of the data\n",
    "- It also helps to gain better understanding of the dataset\n",
    "- It helps uncover relationships between different variables\n",
    "- It extract the important variables for the problem being solved\n",
    "\n",
    "#### Q1: find the unique weather of the values in the data"
   ]
  },
  {
   "cell_type": "code",
   "execution_count": 113,
   "id": "7c69a4f2",
   "metadata": {},
   "outputs": [
    {
     "data": {
      "text/plain": [
       "array(['Partially cloudy', 'Rain, Partially cloudy', 'Rain, Overcast',\n",
       "       'Rain', 'Clear', 'Snow, Rain, Partially cloudy', 'Overcast'],\n",
       "      dtype=object)"
      ]
     },
     "execution_count": 113,
     "metadata": {},
     "output_type": "execute_result"
    }
   ],
   "source": [
    "df['conditions'].unique()"
   ]
  },
  {
   "cell_type": "markdown",
   "id": "b9e22ac1",
   "metadata": {},
   "source": [
    "#### Q2: find the number of days when the weather was exactly 'Rain' only."
   ]
  },
  {
   "cell_type": "code",
   "execution_count": 114,
   "id": "5bafdbf7",
   "metadata": {},
   "outputs": [
    {
     "data": {
      "text/plain": [
       "8"
      ]
     },
     "execution_count": 114,
     "metadata": {},
     "output_type": "execute_result"
    }
   ],
   "source": [
    "filt = df['conditions'] == 'Rain'        #setting up a filtering condition \n",
    "df.loc[filt, 'conditions'].count()        #getting the actual count on what or number of conditions that really happened"
   ]
  },
  {
   "cell_type": "markdown",
   "id": "c0093f85",
   "metadata": {},
   "source": [
    "The weather condition was only rain for 8 days."
   ]
  },
  {
   "cell_type": "code",
   "execution_count": 115,
   "id": "f8039c72",
   "metadata": {},
   "outputs": [
    {
     "data": {
      "text/plain": [
       "294"
      ]
     },
     "execution_count": 115,
     "metadata": {},
     "output_type": "execute_result"
    }
   ],
   "source": [
    "#using preciptype to detect the same factor\n",
    "filt2 = df['preciptype'] == 'rain'\n",
    "df.loc[filt2, 'preciptype'].count()"
   ]
  },
  {
   "cell_type": "markdown",
   "id": "0b72404a",
   "metadata": {},
   "source": [
    "The precipitation condition is rain for 294 days."
   ]
  },
  {
   "cell_type": "markdown",
   "id": "95d98fad",
   "metadata": {},
   "source": [
    "#### Q3. find from where the maximum readings of weather patterns taken from."
   ]
  },
  {
   "cell_type": "code",
   "execution_count": 116,
   "id": "f608ee55",
   "metadata": {},
   "outputs": [
    {
     "data": {
      "text/plain": [
       "array(['A', 'B', 'C', 'D', 'E'], dtype=object)"
      ]
     },
     "execution_count": 116,
     "metadata": {},
     "output_type": "execute_result"
    }
   ],
   "source": [
    "df['stations'].unique()"
   ]
  },
  {
   "cell_type": "code",
   "execution_count": 117,
   "id": "0ad527cb",
   "metadata": {},
   "outputs": [
    {
     "data": {
      "text/html": [
       "<div>\n",
       "<style scoped>\n",
       "    .dataframe tbody tr th:only-of-type {\n",
       "        vertical-align: middle;\n",
       "    }\n",
       "\n",
       "    .dataframe tbody tr th {\n",
       "        vertical-align: top;\n",
       "    }\n",
       "\n",
       "    .dataframe thead th {\n",
       "        text-align: right;\n",
       "    }\n",
       "</style>\n",
       "<table border=\"1\" class=\"dataframe\">\n",
       "  <thead>\n",
       "    <tr style=\"text-align: right;\">\n",
       "      <th></th>\n",
       "      <th>stations</th>\n",
       "      <th>count</th>\n",
       "    </tr>\n",
       "  </thead>\n",
       "  <tbody>\n",
       "    <tr>\n",
       "      <th>0</th>\n",
       "      <td>A</td>\n",
       "      <td>328</td>\n",
       "    </tr>\n",
       "    <tr>\n",
       "      <th>1</th>\n",
       "      <td>B</td>\n",
       "      <td>32</td>\n",
       "    </tr>\n",
       "    <tr>\n",
       "      <th>2</th>\n",
       "      <td>C</td>\n",
       "      <td>2</td>\n",
       "    </tr>\n",
       "    <tr>\n",
       "      <th>3</th>\n",
       "      <td>D</td>\n",
       "      <td>2</td>\n",
       "    </tr>\n",
       "    <tr>\n",
       "      <th>4</th>\n",
       "      <td>E</td>\n",
       "      <td>1</td>\n",
       "    </tr>\n",
       "  </tbody>\n",
       "</table>\n",
       "</div>"
      ],
      "text/plain": [
       "  stations  count\n",
       "0        A    328\n",
       "1        B     32\n",
       "2        C      2\n",
       "3        D      2\n",
       "4        E      1"
      ]
     },
     "execution_count": 117,
     "metadata": {},
     "output_type": "execute_result"
    }
   ],
   "source": [
    "stations = df['stations'].unique()\n",
    "st_count = {'stations':[],'count':[]}\n",
    "for station in stations:\n",
    "    filt = df['stations'] == station\n",
    "    st_count['stations'].append(station)\n",
    "    st_count['count'].append(df.loc[filt, 'stations'].count())\n",
    "st_count = pd.DataFrame(st_count)\n",
    "st_count"
   ]
  },
  {
   "cell_type": "markdown",
   "id": "67ac1367",
   "metadata": {},
   "source": [
    "We can note Station A has maximum inputs with 328 days."
   ]
  },
  {
   "cell_type": "markdown",
   "id": "b6323a23",
   "metadata": {},
   "source": [
    "The humidity is 99.4% mostly on mondays."
   ]
  },
  {
   "cell_type": "markdown",
   "id": "ba67b43d",
   "metadata": {},
   "source": [
    "#### Q4: Create the column of day_name, month and year"
   ]
  },
  {
   "cell_type": "code",
   "execution_count": 118,
   "id": "55a0781d",
   "metadata": {},
   "outputs": [
    {
     "data": {
      "text/html": [
       "<div>\n",
       "<style scoped>\n",
       "    .dataframe tbody tr th:only-of-type {\n",
       "        vertical-align: middle;\n",
       "    }\n",
       "\n",
       "    .dataframe tbody tr th {\n",
       "        vertical-align: top;\n",
       "    }\n",
       "\n",
       "    .dataframe thead th {\n",
       "        text-align: right;\n",
       "    }\n",
       "</style>\n",
       "<table border=\"1\" class=\"dataframe\">\n",
       "  <thead>\n",
       "    <tr style=\"text-align: right;\">\n",
       "      <th></th>\n",
       "      <th>name</th>\n",
       "      <th>datetime</th>\n",
       "      <th>tempmax</th>\n",
       "      <th>tempmin</th>\n",
       "      <th>temp</th>\n",
       "      <th>feelslikemax</th>\n",
       "      <th>feelslikemin</th>\n",
       "      <th>feelslike</th>\n",
       "      <th>dew</th>\n",
       "      <th>humidity</th>\n",
       "      <th>...</th>\n",
       "      <th>uvindex</th>\n",
       "      <th>sunrise</th>\n",
       "      <th>sunset</th>\n",
       "      <th>moonphase</th>\n",
       "      <th>conditions</th>\n",
       "      <th>description</th>\n",
       "      <th>icon</th>\n",
       "      <th>stations</th>\n",
       "      <th>day_name</th>\n",
       "      <th>month</th>\n",
       "    </tr>\n",
       "  </thead>\n",
       "  <tbody>\n",
       "    <tr>\n",
       "      <th>0</th>\n",
       "      <td>australia</td>\n",
       "      <td>2022-01-01</td>\n",
       "      <td>30.0</td>\n",
       "      <td>11.7</td>\n",
       "      <td>21.3</td>\n",
       "      <td>29.0</td>\n",
       "      <td>11.7</td>\n",
       "      <td>21.1</td>\n",
       "      <td>11.4</td>\n",
       "      <td>57.1</td>\n",
       "      <td>...</td>\n",
       "      <td>10</td>\n",
       "      <td>2022-01-01T05:52:07</td>\n",
       "      <td>2022-01-01T20:21:29</td>\n",
       "      <td>0.94</td>\n",
       "      <td>Partially cloudy</td>\n",
       "      <td>Clearing in the afternoon.</td>\n",
       "      <td>partly-cloudy-day</td>\n",
       "      <td>A</td>\n",
       "      <td>Saturday</td>\n",
       "      <td>1</td>\n",
       "    </tr>\n",
       "    <tr>\n",
       "      <th>1</th>\n",
       "      <td>australia</td>\n",
       "      <td>2022-02-01</td>\n",
       "      <td>32.6</td>\n",
       "      <td>13.9</td>\n",
       "      <td>22.9</td>\n",
       "      <td>31.1</td>\n",
       "      <td>13.9</td>\n",
       "      <td>22.6</td>\n",
       "      <td>14.0</td>\n",
       "      <td>63.1</td>\n",
       "      <td>...</td>\n",
       "      <td>10</td>\n",
       "      <td>2022-01-02T05:52:52</td>\n",
       "      <td>2022-01-02T20:21:39</td>\n",
       "      <td>0.97</td>\n",
       "      <td>Rain, Partially cloudy</td>\n",
       "      <td>Partly cloudy throughout the day with late aft...</td>\n",
       "      <td>rain</td>\n",
       "      <td>A</td>\n",
       "      <td>Tuesday</td>\n",
       "      <td>2</td>\n",
       "    </tr>\n",
       "    <tr>\n",
       "      <th>2</th>\n",
       "      <td>australia</td>\n",
       "      <td>2022-03-01</td>\n",
       "      <td>28.6</td>\n",
       "      <td>14.9</td>\n",
       "      <td>21.2</td>\n",
       "      <td>29.1</td>\n",
       "      <td>14.9</td>\n",
       "      <td>21.3</td>\n",
       "      <td>15.4</td>\n",
       "      <td>70.8</td>\n",
       "      <td>...</td>\n",
       "      <td>10</td>\n",
       "      <td>2022-01-03T05:53:40</td>\n",
       "      <td>2022-01-03T20:21:46</td>\n",
       "      <td>0.00</td>\n",
       "      <td>Rain, Partially cloudy</td>\n",
       "      <td>Partly cloudy throughout the day with rain.</td>\n",
       "      <td>rain</td>\n",
       "      <td>A</td>\n",
       "      <td>Tuesday</td>\n",
       "      <td>3</td>\n",
       "    </tr>\n",
       "  </tbody>\n",
       "</table>\n",
       "<p>3 rows × 34 columns</p>\n",
       "</div>"
      ],
      "text/plain": [
       "        name   datetime  tempmax  tempmin  temp  feelslikemax  feelslikemin  \\\n",
       "0  australia 2022-01-01     30.0     11.7  21.3          29.0          11.7   \n",
       "1  australia 2022-02-01     32.6     13.9  22.9          31.1          13.9   \n",
       "2  australia 2022-03-01     28.6     14.9  21.2          29.1          14.9   \n",
       "\n",
       "   feelslike   dew  humidity  ...  uvindex              sunrise  \\\n",
       "0       21.1  11.4      57.1  ...       10  2022-01-01T05:52:07   \n",
       "1       22.6  14.0      63.1  ...       10  2022-01-02T05:52:52   \n",
       "2       21.3  15.4      70.8  ...       10  2022-01-03T05:53:40   \n",
       "\n",
       "                sunset moonphase              conditions  \\\n",
       "0  2022-01-01T20:21:29      0.94        Partially cloudy   \n",
       "1  2022-01-02T20:21:39      0.97  Rain, Partially cloudy   \n",
       "2  2022-01-03T20:21:46      0.00  Rain, Partially cloudy   \n",
       "\n",
       "                                         description               icon  \\\n",
       "0                         Clearing in the afternoon.  partly-cloudy-day   \n",
       "1  Partly cloudy throughout the day with late aft...               rain   \n",
       "2        Partly cloudy throughout the day with rain.               rain   \n",
       "\n",
       "   stations  day_name  month  \n",
       "0         A  Saturday      1  \n",
       "1         A   Tuesday      2  \n",
       "2         A   Tuesday      3  \n",
       "\n",
       "[3 rows x 34 columns]"
      ]
     },
     "execution_count": 118,
     "metadata": {},
     "output_type": "execute_result"
    }
   ],
   "source": [
    "df['day_name'] = df['datetime'].dt.day_name()    #inserting the column in all three occasion\n",
    "df['month'] = df['datetime'].dt.month         #creating the month column\n",
    "\n",
    "df.head(3)"
   ]
  },
  {
   "cell_type": "code",
   "execution_count": 119,
   "id": "e2839e70",
   "metadata": {},
   "outputs": [
    {
     "data": {
      "text/html": [
       "<div>\n",
       "<style scoped>\n",
       "    .dataframe tbody tr th:only-of-type {\n",
       "        vertical-align: middle;\n",
       "    }\n",
       "\n",
       "    .dataframe tbody tr th {\n",
       "        vertical-align: top;\n",
       "    }\n",
       "\n",
       "    .dataframe thead th {\n",
       "        text-align: right;\n",
       "    }\n",
       "</style>\n",
       "<table border=\"1\" class=\"dataframe\">\n",
       "  <thead>\n",
       "    <tr style=\"text-align: right;\">\n",
       "      <th></th>\n",
       "      <th>name</th>\n",
       "      <th>datetime</th>\n",
       "      <th>tempmax</th>\n",
       "      <th>tempmin</th>\n",
       "      <th>temp</th>\n",
       "      <th>feelslikemax</th>\n",
       "      <th>feelslikemin</th>\n",
       "      <th>feelslike</th>\n",
       "      <th>dew</th>\n",
       "      <th>humidity</th>\n",
       "      <th>...</th>\n",
       "      <th>uvindex</th>\n",
       "      <th>sunrise</th>\n",
       "      <th>sunset</th>\n",
       "      <th>moonphase</th>\n",
       "      <th>conditions</th>\n",
       "      <th>description</th>\n",
       "      <th>icon</th>\n",
       "      <th>stations</th>\n",
       "      <th>day_name</th>\n",
       "      <th>month</th>\n",
       "    </tr>\n",
       "  </thead>\n",
       "  <tbody>\n",
       "    <tr>\n",
       "      <th>0</th>\n",
       "      <td>australia</td>\n",
       "      <td>2022-01-01</td>\n",
       "      <td>30.0</td>\n",
       "      <td>11.7</td>\n",
       "      <td>21.3</td>\n",
       "      <td>29.0</td>\n",
       "      <td>11.7</td>\n",
       "      <td>21.1</td>\n",
       "      <td>11.4</td>\n",
       "      <td>57.1</td>\n",
       "      <td>...</td>\n",
       "      <td>10</td>\n",
       "      <td>2022-01-01T05:52:07</td>\n",
       "      <td>2022-01-01T20:21:29</td>\n",
       "      <td>0.94</td>\n",
       "      <td>Partially cloudy</td>\n",
       "      <td>Clearing in the afternoon.</td>\n",
       "      <td>partly-cloudy-day</td>\n",
       "      <td>A</td>\n",
       "      <td>Saturday</td>\n",
       "      <td>Jan</td>\n",
       "    </tr>\n",
       "    <tr>\n",
       "      <th>1</th>\n",
       "      <td>australia</td>\n",
       "      <td>2022-02-01</td>\n",
       "      <td>32.6</td>\n",
       "      <td>13.9</td>\n",
       "      <td>22.9</td>\n",
       "      <td>31.1</td>\n",
       "      <td>13.9</td>\n",
       "      <td>22.6</td>\n",
       "      <td>14.0</td>\n",
       "      <td>63.1</td>\n",
       "      <td>...</td>\n",
       "      <td>10</td>\n",
       "      <td>2022-01-02T05:52:52</td>\n",
       "      <td>2022-01-02T20:21:39</td>\n",
       "      <td>0.97</td>\n",
       "      <td>Rain, Partially cloudy</td>\n",
       "      <td>Partly cloudy throughout the day with late aft...</td>\n",
       "      <td>rain</td>\n",
       "      <td>A</td>\n",
       "      <td>Tuesday</td>\n",
       "      <td>Feb</td>\n",
       "    </tr>\n",
       "    <tr>\n",
       "      <th>2</th>\n",
       "      <td>australia</td>\n",
       "      <td>2022-03-01</td>\n",
       "      <td>28.6</td>\n",
       "      <td>14.9</td>\n",
       "      <td>21.2</td>\n",
       "      <td>29.1</td>\n",
       "      <td>14.9</td>\n",
       "      <td>21.3</td>\n",
       "      <td>15.4</td>\n",
       "      <td>70.8</td>\n",
       "      <td>...</td>\n",
       "      <td>10</td>\n",
       "      <td>2022-01-03T05:53:40</td>\n",
       "      <td>2022-01-03T20:21:46</td>\n",
       "      <td>0.00</td>\n",
       "      <td>Rain, Partially cloudy</td>\n",
       "      <td>Partly cloudy throughout the day with rain.</td>\n",
       "      <td>rain</td>\n",
       "      <td>A</td>\n",
       "      <td>Tuesday</td>\n",
       "      <td>Mar</td>\n",
       "    </tr>\n",
       "  </tbody>\n",
       "</table>\n",
       "<p>3 rows × 34 columns</p>\n",
       "</div>"
      ],
      "text/plain": [
       "        name   datetime  tempmax  tempmin  temp  feelslikemax  feelslikemin  \\\n",
       "0  australia 2022-01-01     30.0     11.7  21.3          29.0          11.7   \n",
       "1  australia 2022-02-01     32.6     13.9  22.9          31.1          13.9   \n",
       "2  australia 2022-03-01     28.6     14.9  21.2          29.1          14.9   \n",
       "\n",
       "   feelslike   dew  humidity  ...  uvindex              sunrise  \\\n",
       "0       21.1  11.4      57.1  ...       10  2022-01-01T05:52:07   \n",
       "1       22.6  14.0      63.1  ...       10  2022-01-02T05:52:52   \n",
       "2       21.3  15.4      70.8  ...       10  2022-01-03T05:53:40   \n",
       "\n",
       "                sunset moonphase              conditions  \\\n",
       "0  2022-01-01T20:21:29      0.94        Partially cloudy   \n",
       "1  2022-01-02T20:21:39      0.97  Rain, Partially cloudy   \n",
       "2  2022-01-03T20:21:46      0.00  Rain, Partially cloudy   \n",
       "\n",
       "                                         description               icon  \\\n",
       "0                         Clearing in the afternoon.  partly-cloudy-day   \n",
       "1  Partly cloudy throughout the day with late aft...               rain   \n",
       "2        Partly cloudy throughout the day with rain.               rain   \n",
       "\n",
       "   stations  day_name  month  \n",
       "0         A  Saturday    Jan  \n",
       "1         A   Tuesday    Feb  \n",
       "2         A   Tuesday    Mar  \n",
       "\n",
       "[3 rows x 34 columns]"
      ]
     },
     "execution_count": 119,
     "metadata": {},
     "output_type": "execute_result"
    }
   ],
   "source": [
    "# changing the month column from numbers to month name abbr.\n",
    "df['month'] = df['month'].replace({1:'Jan', 2:'Feb', 3:'Mar', 4:'Apr', 5:'May', 6:'Jun', 7:'Jul', 8:'Aug', 9:'Sep', 10:'Oct',\n",
    "                                  11:'Nov', 12:'Dec'})\n",
    "\n",
    "df.head(3)"
   ]
  },
  {
   "cell_type": "markdown",
   "id": "7f541cf1",
   "metadata": {},
   "source": [
    "#### Q5. find the number of times when 'wind speed is greater than 30 Kmph'"
   ]
  },
  {
   "cell_type": "code",
   "execution_count": 147,
   "id": "4e50f10c",
   "metadata": {},
   "outputs": [
    {
     "data": {
      "text/plain": [
       "89"
      ]
     },
     "execution_count": 147,
     "metadata": {},
     "output_type": "execute_result"
    }
   ],
   "source": [
    "filt = df['windspeed']>30\n",
    "df.loc[filt, 'windspeed'].count()"
   ]
  },
  {
   "cell_type": "markdown",
   "id": "c1da76cb",
   "metadata": {},
   "source": [
    "For 89 days within the total 365 days wind speed is greater than 30mph"
   ]
  },
  {
   "cell_type": "markdown",
   "id": "f0198ec6",
   "metadata": {},
   "source": [
    "#### Q6. Find the mean visibility"
   ]
  },
  {
   "cell_type": "code",
   "execution_count": 122,
   "id": "f8d6e2dc",
   "metadata": {},
   "outputs": [
    {
     "data": {
      "text/plain": [
       "9.898082191780823"
      ]
     },
     "execution_count": 122,
     "metadata": {},
     "output_type": "execute_result"
    }
   ],
   "source": [
    "df['visibility'].mean() "
   ]
  },
  {
   "cell_type": "markdown",
   "id": "f9e17add",
   "metadata": {},
   "source": [
    "Mean visibility is 9.898"
   ]
  },
  {
   "cell_type": "markdown",
   "id": "56c44846",
   "metadata": {},
   "source": [
    "#### Q7. Which months had the temperatures less than 3 degrees celcius"
   ]
  },
  {
   "cell_type": "code",
   "execution_count": 146,
   "id": "058faca9",
   "metadata": {},
   "outputs": [
    {
     "data": {
      "text/plain": [
       "152    Feb\n",
       "164    Jun\n",
       "178    Jun\n",
       "195    Jul\n",
       "210    Jul\n",
       "211    Jul\n",
       "Name: month, dtype: object"
      ]
     },
     "execution_count": 146,
     "metadata": {},
     "output_type": "execute_result"
    }
   ],
   "source": [
    "filt = df['temp'] < 3            #inserting a conditon to be met\n",
    "#df['temp'].unique()\n",
    "df[filt]['month']"
   ]
  },
  {
   "cell_type": "code",
   "execution_count": null,
   "id": "6020ee71",
   "metadata": {},
   "outputs": [],
   "source": []
  },
  {
   "cell_type": "markdown",
   "id": "af2070d7",
   "metadata": {},
   "source": [
    "#### Q7. Make a subset of the dataframe with the following parameters as columns -- date/time, temprature, dew point, humidity, wind speed, weather conditions."
   ]
  },
  {
   "cell_type": "code",
   "execution_count": 123,
   "id": "36c75abb",
   "metadata": {},
   "outputs": [
    {
     "data": {
      "text/plain": [
       "Index(['name', 'datetime', 'tempmax', 'tempmin', 'temp', 'feelslikemax',\n",
       "       'feelslikemin', 'feelslike', 'dew', 'humidity', 'precip', 'precipprob',\n",
       "       'precipcover', 'preciptype', 'snow', 'snowdepth', 'windgust',\n",
       "       'windspeed', 'winddir', 'sealevelpressure', 'cloudcover', 'visibility',\n",
       "       'solarradiation', 'solarenergy', 'uvindex', 'sunrise', 'sunset',\n",
       "       'moonphase', 'conditions', 'description', 'icon', 'stations',\n",
       "       'day_name', 'month'],\n",
       "      dtype='object')"
      ]
     },
     "execution_count": 123,
     "metadata": {},
     "output_type": "execute_result"
    }
   ],
   "source": [
    "df.columns"
   ]
  },
  {
   "cell_type": "code",
   "execution_count": 124,
   "id": "bf59c14f",
   "metadata": {},
   "outputs": [
    {
     "data": {
      "text/html": [
       "<div>\n",
       "<style scoped>\n",
       "    .dataframe tbody tr th:only-of-type {\n",
       "        vertical-align: middle;\n",
       "    }\n",
       "\n",
       "    .dataframe tbody tr th {\n",
       "        vertical-align: top;\n",
       "    }\n",
       "\n",
       "    .dataframe thead th {\n",
       "        text-align: right;\n",
       "    }\n",
       "</style>\n",
       "<table border=\"1\" class=\"dataframe\">\n",
       "  <thead>\n",
       "    <tr style=\"text-align: right;\">\n",
       "      <th></th>\n",
       "      <th>Date/Time</th>\n",
       "      <th>Temperature_C</th>\n",
       "      <th>Dew_point</th>\n",
       "      <th>Humidity_%</th>\n",
       "      <th>Wind_speed_kmph</th>\n",
       "      <th>Weather</th>\n",
       "    </tr>\n",
       "  </thead>\n",
       "  <tbody>\n",
       "    <tr>\n",
       "      <th>0</th>\n",
       "      <td>2022-01-01</td>\n",
       "      <td>21.3</td>\n",
       "      <td>11.4</td>\n",
       "      <td>57.1</td>\n",
       "      <td>19.5</td>\n",
       "      <td>Partially cloudy</td>\n",
       "    </tr>\n",
       "    <tr>\n",
       "      <th>1</th>\n",
       "      <td>2022-02-01</td>\n",
       "      <td>22.9</td>\n",
       "      <td>14.0</td>\n",
       "      <td>63.1</td>\n",
       "      <td>26.0</td>\n",
       "      <td>Rain, Partially cloudy</td>\n",
       "    </tr>\n",
       "    <tr>\n",
       "      <th>2</th>\n",
       "      <td>2022-03-01</td>\n",
       "      <td>21.2</td>\n",
       "      <td>15.4</td>\n",
       "      <td>70.8</td>\n",
       "      <td>29.5</td>\n",
       "      <td>Rain, Partially cloudy</td>\n",
       "    </tr>\n",
       "  </tbody>\n",
       "</table>\n",
       "</div>"
      ],
      "text/plain": [
       "   Date/Time  Temperature_C  Dew_point  Humidity_%  Wind_speed_kmph  \\\n",
       "0 2022-01-01           21.3       11.4        57.1             19.5   \n",
       "1 2022-02-01           22.9       14.0        63.1             26.0   \n",
       "2 2022-03-01           21.2       15.4        70.8             29.5   \n",
       "\n",
       "                  Weather  \n",
       "0        Partially cloudy  \n",
       "1  Rain, Partially cloudy  \n",
       "2  Rain, Partially cloudy  "
      ]
     },
     "execution_count": 124,
     "metadata": {},
     "output_type": "execute_result"
    }
   ],
   "source": [
    "df_new = df[['datetime', 'temp', 'dew', 'humidity', 'windspeed', 'conditions']]\n",
    "\n",
    "#replacing the name of columns to make it more readable\n",
    "df_new.rename(columns={'datetime': 'Date/Time', 'dew': 'Dew_point', 'temp':'Temperature_C', 'humidity':'Humidity_%', \n",
    "                        'windspeed':'Wind_speed_kmph', 'conditions':'Weather'}, inplace=True)\n",
    "\n",
    "df_new.head(3)"
   ]
  },
  {
   "cell_type": "markdown",
   "id": "c84f4d58",
   "metadata": {},
   "source": [
    "#### Q4. find the correlation of the new data set"
   ]
  },
  {
   "cell_type": "code",
   "execution_count": 125,
   "id": "9f4aed1e",
   "metadata": {},
   "outputs": [
    {
     "data": {
      "text/html": [
       "<div>\n",
       "<style scoped>\n",
       "    .dataframe tbody tr th:only-of-type {\n",
       "        vertical-align: middle;\n",
       "    }\n",
       "\n",
       "    .dataframe tbody tr th {\n",
       "        vertical-align: top;\n",
       "    }\n",
       "\n",
       "    .dataframe thead th {\n",
       "        text-align: right;\n",
       "    }\n",
       "</style>\n",
       "<table border=\"1\" class=\"dataframe\">\n",
       "  <thead>\n",
       "    <tr style=\"text-align: right;\">\n",
       "      <th></th>\n",
       "      <th>Temperature_C</th>\n",
       "      <th>Dew_point</th>\n",
       "      <th>Humidity_%</th>\n",
       "      <th>Wind_speed_kmph</th>\n",
       "    </tr>\n",
       "  </thead>\n",
       "  <tbody>\n",
       "    <tr>\n",
       "      <th>Temperature_C</th>\n",
       "      <td>1.000000</td>\n",
       "      <td>0.905186</td>\n",
       "      <td>0.272460</td>\n",
       "      <td>0.022350</td>\n",
       "    </tr>\n",
       "    <tr>\n",
       "      <th>Dew_point</th>\n",
       "      <td>0.905186</td>\n",
       "      <td>1.000000</td>\n",
       "      <td>0.154375</td>\n",
       "      <td>0.082516</td>\n",
       "    </tr>\n",
       "    <tr>\n",
       "      <th>Humidity_%</th>\n",
       "      <td>0.272460</td>\n",
       "      <td>0.154375</td>\n",
       "      <td>1.000000</td>\n",
       "      <td>0.299526</td>\n",
       "    </tr>\n",
       "    <tr>\n",
       "      <th>Wind_speed_kmph</th>\n",
       "      <td>0.022350</td>\n",
       "      <td>0.082516</td>\n",
       "      <td>0.299526</td>\n",
       "      <td>1.000000</td>\n",
       "    </tr>\n",
       "  </tbody>\n",
       "</table>\n",
       "</div>"
      ],
      "text/plain": [
       "                 Temperature_C  Dew_point  Humidity_%  Wind_speed_kmph\n",
       "Temperature_C         1.000000   0.905186    0.272460         0.022350\n",
       "Dew_point             0.905186   1.000000    0.154375         0.082516\n",
       "Humidity_%            0.272460   0.154375    1.000000         0.299526\n",
       "Wind_speed_kmph       0.022350   0.082516    0.299526         1.000000"
      ]
     },
     "execution_count": 125,
     "metadata": {},
     "output_type": "execute_result"
    }
   ],
   "source": [
    "df_new.corr().abs()"
   ]
  },
  {
   "cell_type": "markdown",
   "id": "16ec6fd3",
   "metadata": {},
   "source": [
    "##### plotting the correlation in regression plane"
   ]
  },
  {
   "cell_type": "code",
   "execution_count": 126,
   "id": "7d34d0ad",
   "metadata": {},
   "outputs": [
    {
     "data": {
      "text/plain": [
       "<Axes: xlabel='Temperature_C', ylabel='Dew_point'>"
      ]
     },
     "execution_count": 126,
     "metadata": {},
     "output_type": "execute_result"
    },
    {
     "data": {
      "image/png": "[encoded data removed]",
      "text/plain": [
       "<Figure size 640x480 with 1 Axes>"
      ]
     },
     "metadata": {},
     "output_type": "display_data"
    }
   ],
   "source": [
    "sns.regplot(data=df_new, x=\"Temperature_C\", y=\"Dew_point\") #taking in 2 columns to check for their correlation"
   ]
  },
  {
   "cell_type": "markdown",
   "id": "7568d4dd",
   "metadata": {},
   "source": [
    "There is a strong correlation between the temp and the dew point temp as one increases the other incraeses as well"
   ]
  },
  {
   "cell_type": "code",
   "execution_count": 129,
   "id": "2e5a3755",
   "metadata": {},
   "outputs": [
    {
     "data": {
      "text/plain": [
       "array([ 0,  1,  2,  3,  4,  5,  6,  7,  8,  9, 10], dtype=int64)"
      ]
     },
     "execution_count": 129,
     "metadata": {},
     "output_type": "execute_result"
    }
   ],
   "source": [
    "df['uvindex'].sort_values().unique()"
   ]
  },
  {
   "cell_type": "code",
   "execution_count": null,
   "id": "e760e2ed",
   "metadata": {},
   "outputs": [],
   "source": []
  }
 ],
 "metadata": {
  "kernelspec": {
   "display_name": "Python 3 (ipykernel)",
   "language": "python",
   "name": "python3"
  },
  "language_info": {
   "codemirror_mode": {
    "name": "ipython",
    "version": 3
   },
   "file_extension": ".py",
   "mimetype": "text/x-python",
   "name": "python",
   "nbconvert_exporter": "python",
   "pygments_lexer": "ipython3",
   "version": "3.10.9"
  }
 },
 "nbformat": 4,
 "nbformat_minor": 5
}
